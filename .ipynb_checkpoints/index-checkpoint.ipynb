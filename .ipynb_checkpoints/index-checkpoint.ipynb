{
 "cells": [
  {
   "cell_type": "code",
   "execution_count": 1,
   "id": "f2d0f138",
   "metadata": {},
   "outputs": [],
   "source": [
    "#PRIMERO: Se leen las carpetas de los paises, la hidrografia y las ciudades que estan dentro de la carpeta mapas"
   ]
  },
  {
   "cell_type": "code",
   "execution_count": 2,
   "id": "309cd757",
   "metadata": {},
   "outputs": [],
   "source": [
    "import os, geopandas as gpd\n",
    "\n",
    "countries=gpd.read_file(os.path.join(\"maps\",\"World_Countries\",\"World_Countries.shp\"))\n",
    "rivers=gpd.read_file(os.path.join(\"maps\",\"World_Hydrography\",\"World_Hydrography.shp\"))\n",
    "cities=gpd.read_file(os.path.join(\"maps\",\"World_Cities\",\"World_Cities.shp\"))"
   ]
  },
  {
   "cell_type": "code",
   "execution_count": 3,
   "id": "c3b91245",
   "metadata": {},
   "outputs": [],
   "source": [
    "#SEGUNDO: Se llama al GeoDataFrame contries para hacer uso de la libreria pandas"
   ]
  },
  {
   "cell_type": "code",
   "execution_count": 4,
   "id": "0c5de7a1",
   "metadata": {},
   "outputs": [
    {
     "data": {
      "text/plain": [
       "geopandas.geodataframe.GeoDataFrame"
      ]
     },
     "execution_count": 4,
     "metadata": {},
     "output_type": "execute_result"
    }
   ],
   "source": [
    "type(countries)"
   ]
  },
  {
   "cell_type": "code",
   "execution_count": 5,
   "id": "3ed4bcce",
   "metadata": {},
   "outputs": [],
   "source": [
    "#TERCERO: Se elige un pais, en este caso: Alemania"
   ]
  },
  {
   "cell_type": "code",
   "execution_count": 6,
   "id": "59ebd8a4",
   "metadata": {},
   "outputs": [],
   "source": [
    "romania=countries[countries.COUNTRY=='Romania']"
   ]
  },
  {
   "cell_type": "code",
   "execution_count": 7,
   "id": "e5e1c88c",
   "metadata": {},
   "outputs": [],
   "source": [
    "#CUARTO: Se plotea el mapa de Alemania y se configura el estilo de la imagen"
   ]
  },
  {
   "cell_type": "code",
   "execution_count": 8,
   "id": "bdcfea3b",
   "metadata": {},
   "outputs": [],
   "source": [
    "    # Antes de plotear el mapa se verifica que posean el mismo sistema de proyeccion CRS"
   ]
  },
  {
   "cell_type": "code",
   "execution_count": 9,
   "id": "cabd654a",
   "metadata": {},
   "outputs": [
    {
     "data": {
      "text/plain": [
       "<Geographic 2D CRS: EPSG:4326>\n",
       "Name: WGS 84\n",
       "Axis Info [ellipsoidal]:\n",
       "- Lat[north]: Geodetic latitude (degree)\n",
       "- Lon[east]: Geodetic longitude (degree)\n",
       "Area of Use:\n",
       "- name: World.\n",
       "- bounds: (-180.0, -90.0, 180.0, 90.0)\n",
       "Datum: World Geodetic System 1984 ensemble\n",
       "- Ellipsoid: WGS 84\n",
       "- Prime Meridian: Greenwich"
      ]
     },
     "execution_count": 9,
     "metadata": {},
     "output_type": "execute_result"
    }
   ],
   "source": [
    "countries.crs"
   ]
  },
  {
   "cell_type": "code",
   "execution_count": 10,
   "id": "b72d57c3",
   "metadata": {},
   "outputs": [],
   "source": [
    "cities=cities.to_crs(countries.crs)\n",
    "rivers=rivers.to_crs(countries.crs)"
   ]
  },
  {
   "cell_type": "code",
   "execution_count": 11,
   "id": "e0dc74ac",
   "metadata": {},
   "outputs": [],
   "source": [
    "    #Ahora si se muestra a Alemania"
   ]
  },
  {
   "cell_type": "code",
   "execution_count": 12,
   "id": "6824b60c",
   "metadata": {},
   "outputs": [
    {
     "data": {
      "text/plain": [
       "<Axes: >"
      ]
     },
     "execution_count": 12,
     "metadata": {},
     "output_type": "execute_result"
    },
    {
     "data": {
      "image/png": "[encoded data removed]",
      "text/plain": [
       "<Figure size 640x480 with 1 Axes>"
      ]
     },
     "metadata": {},
     "output_type": "display_data"
    }
   ],
   "source": [
    "romania.plot() "
   ]
  },
  {
   "cell_type": "code",
   "execution_count": 13,
   "id": "a54cbf6a",
   "metadata": {},
   "outputs": [],
   "source": [
    "#QUINTO: Se muestra el numero y nombre de las ciudades en Alemania"
   ]
  },
  {
   "cell_type": "code",
   "execution_count": 14,
   "id": "8874f8eb",
   "metadata": {},
   "outputs": [],
   "source": [
    "cities=cities.to_crs(countries.crs)"
   ]
  },
  {
   "cell_type": "code",
   "execution_count": 15,
   "id": "de3176a2",
   "metadata": {},
   "outputs": [
    {
     "data": {
      "text/plain": [
       "(1, 4)"
      ]
     },
     "execution_count": 15,
     "metadata": {},
     "output_type": "execute_result"
    }
   ],
   "source": [
    "cities_romania=cities[cities.COUNTRY=='Romania']\n",
    "cities_romania.shape\n"
   ]
  },
  {
   "cell_type": "code",
   "execution_count": 16,
   "id": "00bd4a99",
   "metadata": {},
   "outputs": [
    {
     "data": {
      "text/html": [
       "<div>\n",
       "<style scoped>\n",
       "    .dataframe tbody tr th:only-of-type {\n",
       "        vertical-align: middle;\n",
       "    }\n",
       "\n",
       "    .dataframe tbody tr th {\n",
       "        vertical-align: top;\n",
       "    }\n",
       "\n",
       "    .dataframe thead th {\n",
       "        text-align: right;\n",
       "    }\n",
       "</style>\n",
       "<table border=\"1\" class=\"dataframe\">\n",
       "  <thead>\n",
       "    <tr style=\"text-align: right;\">\n",
       "      <th></th>\n",
       "      <th>NAME</th>\n",
       "      <th>COUNTRY</th>\n",
       "      <th>CAPITAL</th>\n",
       "      <th>geometry</th>\n",
       "    </tr>\n",
       "  </thead>\n",
       "  <tbody>\n",
       "    <tr>\n",
       "      <th>81</th>\n",
       "      <td>Bucuresti</td>\n",
       "      <td>Romania</td>\n",
       "      <td>Y</td>\n",
       "      <td>POINT (26.12298 44.43048)</td>\n",
       "    </tr>\n",
       "  </tbody>\n",
       "</table>\n",
       "</div>"
      ],
      "text/plain": [
       "         NAME  COUNTRY CAPITAL                   geometry\n",
       "81  Bucuresti  Romania       Y  POINT (26.12298 44.43048)"
      ]
     },
     "execution_count": 16,
     "metadata": {},
     "output_type": "execute_result"
    }
   ],
   "source": [
    "cities_romania.head()"
   ]
  },
  {
   "cell_type": "code",
   "execution_count": 17,
   "id": "d2215975",
   "metadata": {},
   "outputs": [],
   "source": [
    "#SEXTO: Se plotean las ciudades de Alemania"
   ]
  },
  {
   "cell_type": "code",
   "execution_count": 18,
   "id": "fc61cab1",
   "metadata": {},
   "outputs": [
    {
     "data": {
      "text/plain": [
       "<Axes: >"
      ]
     },
     "execution_count": 18,
     "metadata": {},
     "output_type": "execute_result"
    },
    {
     "data": {
      "image/png": "[encoded data removed]",
      "text/plain": [
       "<Figure size 640x480 with 1 Axes>"
      ]
     },
     "metadata": {},
     "output_type": "display_data"
    }
   ],
   "source": [
    "cities_romania=cities[cities.COUNTRY=='Romania']\n",
    "cities_romania.plot()"
   ]
  },
  {
   "cell_type": "code",
   "execution_count": 19,
   "id": "d6fe381f",
   "metadata": {},
   "outputs": [],
   "source": [
    "#SETIMO: Se muestra el numero y nombres de los rios de Alemania"
   ]
  },
  {
   "cell_type": "code",
   "execution_count": 20,
   "id": "929b19bf",
   "metadata": {},
   "outputs": [
    {
     "data": {
      "text/plain": [
       "(1, 3)"
      ]
     },
     "execution_count": 20,
     "metadata": {},
     "output_type": "execute_result"
    }
   ],
   "source": [
    "rivers_romania = gpd.clip(gdf=rivers,mask=romania)\n",
    "rivers_romania.shape"
   ]
  },
  {
   "cell_type": "code",
   "execution_count": 21,
   "id": "1a831a57",
   "metadata": {},
   "outputs": [
    {
     "data": {
      "text/html": [
       "<div>\n",
       "<style scoped>\n",
       "    .dataframe tbody tr th:only-of-type {\n",
       "        vertical-align: middle;\n",
       "    }\n",
       "\n",
       "    .dataframe tbody tr th {\n",
       "        vertical-align: top;\n",
       "    }\n",
       "\n",
       "    .dataframe thead th {\n",
       "        text-align: right;\n",
       "    }\n",
       "</style>\n",
       "<table border=\"1\" class=\"dataframe\">\n",
       "  <thead>\n",
       "    <tr style=\"text-align: right;\">\n",
       "      <th></th>\n",
       "      <th>NAME</th>\n",
       "      <th>SYSTEM</th>\n",
       "      <th>geometry</th>\n",
       "    </tr>\n",
       "  </thead>\n",
       "  <tbody>\n",
       "    <tr>\n",
       "      <th>14</th>\n",
       "      <td>Danube</td>\n",
       "      <td>None</td>\n",
       "      <td>MULTILINESTRING ((29.09397 45.23505, 29.64715 ...</td>\n",
       "    </tr>\n",
       "  </tbody>\n",
       "</table>\n",
       "</div>"
      ],
      "text/plain": [
       "      NAME SYSTEM                                           geometry\n",
       "14  Danube   None  MULTILINESTRING ((29.09397 45.23505, 29.64715 ..."
      ]
     },
     "execution_count": 21,
     "metadata": {},
     "output_type": "execute_result"
    }
   ],
   "source": [
    "rivers_romania.head()"
   ]
  },
  {
   "cell_type": "code",
   "execution_count": 22,
   "id": "5a2689d4",
   "metadata": {},
   "outputs": [],
   "source": [
    "#OCTAVO: Se plotean los rios de Alemania"
   ]
  },
  {
   "cell_type": "code",
   "execution_count": 23,
   "id": "5ffd10f8",
   "metadata": {},
   "outputs": [
    {
     "data": {
      "text/plain": [
       "<Axes: >"
      ]
     },
     "execution_count": 23,
     "metadata": {},
     "output_type": "execute_result"
    },
    {
     "data": {
      "image/png": "[encoded data removed]",
      "text/plain": [
       "<Figure size 640x480 with 1 Axes>"
      ]
     },
     "metadata": {},
     "output_type": "display_data"
    }
   ],
   "source": [
    "rivers_romania = gpd.clip(gdf=rivers,mask=romania)\n",
    "rivers_romania.plot()"
   ]
  },
  {
   "cell_type": "code",
   "execution_count": 24,
   "id": "e3771686",
   "metadata": {},
   "outputs": [],
   "source": [
    "#NOVENO: Se plotean las 3 capas anteriores en una sola figura"
   ]
  },
  {
   "cell_type": "code",
   "execution_count": 24,
   "id": "3348e1f7",
   "metadata": {},
   "outputs": [
    {
     "data": {
      "text/plain": [
       "<Axes: >"
      ]
     },
     "execution_count": 24,
     "metadata": {},
     "output_type": "execute_result"
    },
    {
     "data": {
      "image/png": "[encoded data removed]",
      "text/plain": [
       "<Figure size 500x500 with 1 Axes>"
      ]
     },
     "metadata": {},
     "output_type": "display_data"
    }
   ],
   "source": [
    "base = romania.plot(facecolor=\"greenyellow\", edgecolor='black', linewidth=0.4,figsize=(5,5))\n",
    "cities_romania.plot(marker='+', color='red', markersize=15,ax=base)\n",
    "rivers_romania.plot(edgecolor='blue', linewidth=0.5,ax=base)"
   ]
  },
  {
   "cell_type": "code",
   "execution_count": 26,
   "id": "f8d49760",
   "metadata": {},
   "outputs": [],
   "source": [
    "#DECIMO: Se localiza el pais en el mapa mundia a traves de las cordenadas"
   ]
  },
  {
   "cell_type": "code",
   "execution_count": 27,
   "id": "51346c40",
   "metadata": {},
   "outputs": [],
   "source": [
    "    # Se establecen las cordenadas obtenidas del web: https://www.geodatos.net/en/coordinates"
   ]
  },
  {
   "cell_type": "code",
   "execution_count": 25,
   "id": "96ed0db1",
   "metadata": {},
   "outputs": [],
   "source": [
    "romaniaCoord=[45.943161, 24.96676]"
   ]
  },
  {
   "cell_type": "code",
   "execution_count": 27,
   "id": "8cb28f11",
   "metadata": {},
   "outputs": [
    {
     "data": {
      "text/html": [
       "<div style=\"width:100%;\"><div style=\"position:relative;width:100%;height:0;padding-bottom:60%;\"><span style=\"color:#565656\">Make this Notebook Trusted to load map: File -> Trust Notebook</span><iframe srcdoc=\"&lt;!DOCTYPE html&gt;\n",
       "&lt;html&gt;\n",
       "&lt;head&gt;\n",
       "    \n",
       "    &lt;meta http-equiv=&quot;content-type&quot; content=&quot;text/html; charset=UTF-8&quot; /&gt;\n",
       "    \n",
       "        &lt;script&gt;\n",
       "            L_NO_TOUCH = false;\n",
       "            L_DISABLE_3D = false;\n",
       "        &lt;/script&gt;\n",
       "    \n",
       "    &lt;style&gt;html, body {width: 100%;height: 100%;margin: 0;padding: 0;}&lt;/style&gt;\n",
       "    &lt;style&gt;#map {position:absolute;top:0;bottom:0;right:0;left:0;}&lt;/style&gt;\n",
       "    &lt;script src=&quot;https://cdn.jsdelivr.net/npm/leaflet@1.9.3/dist/leaflet.js&quot;&gt;&lt;/script&gt;\n",
       "    &lt;script src=&quot;https://code.jquery.com/jquery-1.12.4.min.js&quot;&gt;&lt;/script&gt;\n",
       "    &lt;script src=&quot;https://cdn.jsdelivr.net/npm/bootstrap@5.2.2/dist/js/bootstrap.bundle.min.js&quot;&gt;&lt;/script&gt;\n",
       "    &lt;script src=&quot;https://cdnjs.cloudflare.com/ajax/libs/Leaflet.awesome-markers/2.0.2/leaflet.awesome-markers.js&quot;&gt;&lt;/script&gt;\n",
       "    &lt;link rel=&quot;stylesheet&quot; href=&quot;https://cdn.jsdelivr.net/npm/leaflet@1.9.3/dist/leaflet.css&quot;/&gt;\n",
       "    &lt;link rel=&quot;stylesheet&quot; href=&quot;https://cdn.jsdelivr.net/npm/bootstrap@5.2.2/dist/css/bootstrap.min.css&quot;/&gt;\n",
       "    &lt;link rel=&quot;stylesheet&quot; href=&quot;https://netdna.bootstrapcdn.com/bootstrap/3.0.0/css/bootstrap.min.css&quot;/&gt;\n",
       "    &lt;link rel=&quot;stylesheet&quot; href=&quot;https://cdn.jsdelivr.net/npm/@fortawesome/fontawesome-free@6.2.0/css/all.min.css&quot;/&gt;\n",
       "    &lt;link rel=&quot;stylesheet&quot; href=&quot;https://cdnjs.cloudflare.com/ajax/libs/Leaflet.awesome-markers/2.0.2/leaflet.awesome-markers.css&quot;/&gt;\n",
       "    &lt;link rel=&quot;stylesheet&quot; href=&quot;https://cdn.jsdelivr.net/gh/python-visualization/folium/folium/templates/leaflet.awesome.rotate.min.css&quot;/&gt;\n",
       "    \n",
       "            &lt;meta name=&quot;viewport&quot; content=&quot;width=device-width,\n",
       "                initial-scale=1.0, maximum-scale=1.0, user-scalable=no&quot; /&gt;\n",
       "            &lt;style&gt;\n",
       "                #map_3f7af8e4b7e5b2bfdd7d5b57d7388b2f {\n",
       "                    position: relative;\n",
       "                    width: 100.0%;\n",
       "                    height: 100.0%;\n",
       "                    left: 0.0%;\n",
       "                    top: 0.0%;\n",
       "                }\n",
       "                .leaflet-container { font-size: 1rem; }\n",
       "            &lt;/style&gt;\n",
       "        \n",
       "    \n",
       "                    &lt;style&gt;\n",
       "                        .foliumtooltip {\n",
       "                            \n",
       "                        }\n",
       "                       .foliumtooltip table{\n",
       "                            margin: auto;\n",
       "                        }\n",
       "                        .foliumtooltip tr{\n",
       "                            text-align: left;\n",
       "                        }\n",
       "                        .foliumtooltip th{\n",
       "                            padding: 2px; padding-right: 8px;\n",
       "                        }\n",
       "                    &lt;/style&gt;\n",
       "            \n",
       "    \n",
       "                    &lt;style&gt;\n",
       "                        .foliumtooltip {\n",
       "                            \n",
       "                        }\n",
       "                       .foliumtooltip table{\n",
       "                            margin: auto;\n",
       "                        }\n",
       "                        .foliumtooltip tr{\n",
       "                            text-align: left;\n",
       "                        }\n",
       "                        .foliumtooltip th{\n",
       "                            padding: 2px; padding-right: 8px;\n",
       "                        }\n",
       "                    &lt;/style&gt;\n",
       "            \n",
       "&lt;/head&gt;\n",
       "&lt;body&gt;\n",
       "    \n",
       "    \n",
       "            &lt;div class=&quot;folium-map&quot; id=&quot;map_3f7af8e4b7e5b2bfdd7d5b57d7388b2f&quot; &gt;&lt;/div&gt;\n",
       "        \n",
       "&lt;/body&gt;\n",
       "&lt;script&gt;\n",
       "    \n",
       "    \n",
       "            var map_3f7af8e4b7e5b2bfdd7d5b57d7388b2f = L.map(\n",
       "                &quot;map_3f7af8e4b7e5b2bfdd7d5b57d7388b2f&quot;,\n",
       "                {\n",
       "                    center: [45.943161, 24.96676],\n",
       "                    crs: L.CRS.EPSG3857,\n",
       "                    zoom: 5,\n",
       "                    zoomControl: true,\n",
       "                    preferCanvas: false,\n",
       "                }\n",
       "            );\n",
       "            L.control.scale().addTo(map_3f7af8e4b7e5b2bfdd7d5b57d7388b2f);\n",
       "\n",
       "            \n",
       "\n",
       "        \n",
       "    \n",
       "            var tile_layer_8e9ee21090ca33f1d76eaf6323271eac = L.tileLayer(\n",
       "                &quot;https://cartodb-basemaps-{s}.global.ssl.fastly.net/light_all/{z}/{x}/{y}.png&quot;,\n",
       "                {&quot;attribution&quot;: &quot;\\u0026copy; \\u003ca target=\\&quot;_blank\\&quot; href=\\&quot;http://www.openstreetmap.org/copyright\\&quot;\\u003eOpenStreetMap\\u003c/a\\u003e contributors \\u0026copy; \\u003ca target=\\&quot;_blank\\&quot; href=\\&quot;http://cartodb.com/attributions\\&quot;\\u003eCartoDB\\u003c/a\\u003e, CartoDB \\u003ca target=\\&quot;_blank\\&quot; href =\\&quot;http://cartodb.com/attributions\\&quot;\\u003eattributions\\u003c/a\\u003e&quot;, &quot;detectRetina&quot;: false, &quot;maxNativeZoom&quot;: 18, &quot;maxZoom&quot;: 18, &quot;minZoom&quot;: 0, &quot;noWrap&quot;: false, &quot;opacity&quot;: 1, &quot;subdomains&quot;: &quot;abc&quot;, &quot;tms&quot;: false}\n",
       "            ).addTo(map_3f7af8e4b7e5b2bfdd7d5b57d7388b2f);\n",
       "        \n",
       "    \n",
       "        function geo_json_337517f7ed3076dffa5dd35643835b2d_styler(feature) {\n",
       "            switch(feature.id) {\n",
       "                default:\n",
       "                    return {&quot;color&quot;: &quot;red&quot;, &quot;fillColor&quot;: &quot;red&quot;, &quot;fillOpacity&quot;: 0.5, &quot;weight&quot;: 2};\n",
       "            }\n",
       "        }\n",
       "        function geo_json_337517f7ed3076dffa5dd35643835b2d_highlighter(feature) {\n",
       "            switch(feature.id) {\n",
       "                default:\n",
       "                    return {&quot;fillOpacity&quot;: 0.75};\n",
       "            }\n",
       "        }\n",
       "        function geo_json_337517f7ed3076dffa5dd35643835b2d_pointToLayer(feature, latlng) {\n",
       "            var opts = {&quot;bubblingMouseEvents&quot;: true, &quot;color&quot;: &quot;#3388ff&quot;, &quot;dashArray&quot;: null, &quot;dashOffset&quot;: null, &quot;fill&quot;: true, &quot;fillColor&quot;: &quot;#3388ff&quot;, &quot;fillOpacity&quot;: 0.2, &quot;fillRule&quot;: &quot;evenodd&quot;, &quot;lineCap&quot;: &quot;round&quot;, &quot;lineJoin&quot;: &quot;round&quot;, &quot;opacity&quot;: 1.0, &quot;radius&quot;: 2, &quot;stroke&quot;: true, &quot;weight&quot;: 3};\n",
       "            \n",
       "            let style = geo_json_337517f7ed3076dffa5dd35643835b2d_styler(feature)\n",
       "            Object.assign(opts, style)\n",
       "            \n",
       "            return new L.CircleMarker(latlng, opts)\n",
       "        }\n",
       "\n",
       "        function geo_json_337517f7ed3076dffa5dd35643835b2d_onEachFeature(feature, layer) {\n",
       "            layer.on({\n",
       "                mouseout: function(e) {\n",
       "                    if(typeof e.target.setStyle === &quot;function&quot;){\n",
       "                        geo_json_337517f7ed3076dffa5dd35643835b2d.resetStyle(e.target);\n",
       "                    }\n",
       "                },\n",
       "                mouseover: function(e) {\n",
       "                    if(typeof e.target.setStyle === &quot;function&quot;){\n",
       "                        const highlightStyle = geo_json_337517f7ed3076dffa5dd35643835b2d_highlighter(e.target.feature)\n",
       "                        e.target.setStyle(highlightStyle);\n",
       "                    }\n",
       "                },\n",
       "            });\n",
       "        };\n",
       "        var geo_json_337517f7ed3076dffa5dd35643835b2d = L.geoJson(null, {\n",
       "                onEachFeature: geo_json_337517f7ed3076dffa5dd35643835b2d_onEachFeature,\n",
       "            \n",
       "                style: geo_json_337517f7ed3076dffa5dd35643835b2d_styler,\n",
       "                pointToLayer: geo_json_337517f7ed3076dffa5dd35643835b2d_pointToLayer\n",
       "        });\n",
       "\n",
       "        function geo_json_337517f7ed3076dffa5dd35643835b2d_add (data) {\n",
       "            geo_json_337517f7ed3076dffa5dd35643835b2d\n",
       "                .addData(data)\n",
       "                .addTo(map_3f7af8e4b7e5b2bfdd7d5b57d7388b2f);\n",
       "        }\n",
       "            geo_json_337517f7ed3076dffa5dd35643835b2d_add({&quot;bbox&quot;: [26.122976303100586, 44.430484771728516, 26.122976303100586, 44.430484771728516], &quot;features&quot;: [{&quot;bbox&quot;: [26.122976303100586, 44.430484771728516, 26.122976303100586, 44.430484771728516], &quot;geometry&quot;: {&quot;coordinates&quot;: [26.122976303100586, 44.430484771728516], &quot;type&quot;: &quot;Point&quot;}, &quot;id&quot;: &quot;81&quot;, &quot;properties&quot;: {&quot;CAPITAL&quot;: &quot;Y&quot;, &quot;COUNTRY&quot;: &quot;Romania&quot;, &quot;NAME&quot;: &quot;Bucuresti&quot;, &quot;__folium_color&quot;: &quot;red&quot;}, &quot;type&quot;: &quot;Feature&quot;}], &quot;type&quot;: &quot;FeatureCollection&quot;});\n",
       "\n",
       "        \n",
       "    \n",
       "    geo_json_337517f7ed3076dffa5dd35643835b2d.bindTooltip(\n",
       "    function(layer){\n",
       "    let div = L.DomUtil.create(&#x27;div&#x27;);\n",
       "    \n",
       "    let handleObject = feature=&gt;typeof(feature)==&#x27;object&#x27; ? JSON.stringify(feature) : feature;\n",
       "    let fields = [&quot;NAME&quot;, &quot;COUNTRY&quot;, &quot;CAPITAL&quot;];\n",
       "    let aliases = [&quot;NAME&quot;, &quot;COUNTRY&quot;, &quot;CAPITAL&quot;];\n",
       "    let table = &#x27;&lt;table&gt;&#x27; +\n",
       "        String(\n",
       "        fields.map(\n",
       "        (v,i)=&gt;\n",
       "        `&lt;tr&gt;\n",
       "            &lt;th&gt;${aliases[i]}&lt;/th&gt;\n",
       "            \n",
       "            &lt;td&gt;${handleObject(layer.feature.properties[v])}&lt;/td&gt;\n",
       "        &lt;/tr&gt;`).join(&#x27;&#x27;))\n",
       "    +&#x27;&lt;/table&gt;&#x27;;\n",
       "    div.innerHTML=table;\n",
       "    \n",
       "    return div\n",
       "    }\n",
       "    ,{&quot;className&quot;: &quot;foliumtooltip&quot;, &quot;sticky&quot;: true});\n",
       "                     \n",
       "    \n",
       "        function geo_json_0e4ea29c491b2cd97da83a1194c440f2_styler(feature) {\n",
       "            switch(feature.id) {\n",
       "                default:\n",
       "                    return {&quot;color&quot;: &quot;blue&quot;, &quot;fillColor&quot;: &quot;blue&quot;, &quot;fillOpacity&quot;: 0.5, &quot;weight&quot;: 2};\n",
       "            }\n",
       "        }\n",
       "        function geo_json_0e4ea29c491b2cd97da83a1194c440f2_highlighter(feature) {\n",
       "            switch(feature.id) {\n",
       "                default:\n",
       "                    return {&quot;fillOpacity&quot;: 0.75};\n",
       "            }\n",
       "        }\n",
       "        function geo_json_0e4ea29c491b2cd97da83a1194c440f2_pointToLayer(feature, latlng) {\n",
       "            var opts = {&quot;bubblingMouseEvents&quot;: true, &quot;color&quot;: &quot;#3388ff&quot;, &quot;dashArray&quot;: null, &quot;dashOffset&quot;: null, &quot;fill&quot;: true, &quot;fillColor&quot;: &quot;#3388ff&quot;, &quot;fillOpacity&quot;: 0.2, &quot;fillRule&quot;: &quot;evenodd&quot;, &quot;lineCap&quot;: &quot;round&quot;, &quot;lineJoin&quot;: &quot;round&quot;, &quot;opacity&quot;: 1.0, &quot;radius&quot;: 2, &quot;stroke&quot;: true, &quot;weight&quot;: 3};\n",
       "            \n",
       "            let style = geo_json_0e4ea29c491b2cd97da83a1194c440f2_styler(feature)\n",
       "            Object.assign(opts, style)\n",
       "            \n",
       "            return new L.CircleMarker(latlng, opts)\n",
       "        }\n",
       "\n",
       "        function geo_json_0e4ea29c491b2cd97da83a1194c440f2_onEachFeature(feature, layer) {\n",
       "            layer.on({\n",
       "                mouseout: function(e) {\n",
       "                    if(typeof e.target.setStyle === &quot;function&quot;){\n",
       "                        geo_json_0e4ea29c491b2cd97da83a1194c440f2.resetStyle(e.target);\n",
       "                    }\n",
       "                },\n",
       "                mouseover: function(e) {\n",
       "                    if(typeof e.target.setStyle === &quot;function&quot;){\n",
       "                        const highlightStyle = geo_json_0e4ea29c491b2cd97da83a1194c440f2_highlighter(e.target.feature)\n",
       "                        e.target.setStyle(highlightStyle);\n",
       "                    }\n",
       "                },\n",
       "            });\n",
       "        };\n",
       "        var geo_json_0e4ea29c491b2cd97da83a1194c440f2 = L.geoJson(null, {\n",
       "                onEachFeature: geo_json_0e4ea29c491b2cd97da83a1194c440f2_onEachFeature,\n",
       "            \n",
       "                style: geo_json_0e4ea29c491b2cd97da83a1194c440f2_styler,\n",
       "                pointToLayer: geo_json_0e4ea29c491b2cd97da83a1194c440f2_pointToLayer\n",
       "        });\n",
       "\n",
       "        function geo_json_0e4ea29c491b2cd97da83a1194c440f2_add (data) {\n",
       "            geo_json_0e4ea29c491b2cd97da83a1194c440f2\n",
       "                .addData(data)\n",
       "                .addTo(map_3f7af8e4b7e5b2bfdd7d5b57d7388b2f);\n",
       "        }\n",
       "            geo_json_0e4ea29c491b2cd97da83a1194c440f2_add({&quot;bbox&quot;: [21.363369335316293, 43.7975959777832, 29.665428165365174, 45.445406978489046], &quot;features&quot;: [{&quot;bbox&quot;: [21.363369335316293, 43.7975959777832, 29.665428165365174, 45.445406978489046], &quot;geometry&quot;: {&quot;coordinates&quot;: [[[29.09396743774414, 45.235050201416016], [29.647154827178102, 45.021918015137175]], [[21.363369335316293, 44.83247076855563], [21.55459213256836, 44.87873458862305], [21.571151733398438, 44.825721740722656], [21.681316375732422, 44.80977249145508], [21.786977767944336, 44.80977249145508], [21.795515060424805, 44.724754333496094], [22.06256675720215, 44.69819259643555], [22.15017318725586, 44.63574981689453], [22.25190832501122, 44.57704970118554]], [[22.492604922416024, 44.69962689521045], [22.49956512451172, 44.708824157714844], [22.613189697265625, 44.767269134521484], [22.894765853881836, 44.65568923950195], [22.946029663085938, 44.59725570678711], [22.78847885131836, 44.602569580078125], [22.742470864900458, 44.573769266794734]], [[22.67154148368439, 44.52936853207306], [22.644229888916016, 44.512271881103516], [22.709625244140625, 44.36357116699219], [22.89766502380371, 44.28006362915039], [23.074047088623047, 44.18836212158203], [23.23192024230957, 44.14058303833008], [23.126773834228516, 43.99728775024414], [23.148038864135742, 43.91238021850586], [23.26772117614746, 43.922996520996094], [23.614551544189453, 44.007896423339844], [23.841968536376953, 44.00704574584961], [24.360036849975586, 43.8295783996582], [24.513187408447266, 43.843284606933594], [24.82400894165039, 43.960872650146484], [24.95867919921875, 43.95515823364258], [25.581769943237305, 43.7975959777832], [25.752756118774414, 43.824275970458984], [26.11893339515451, 43.97257086552158]], [[26.163672897624853, 43.990689520752134], [26.6098690032959, 44.171390533447266], [26.888046264648438, 44.26952362060547], [27.140750885009766, 44.25157928466797], [27.257047653198242, 44.18649673461914], [28.17181396484375, 44.33646011352539], [28.322647094726562, 44.50090408325195], [28.028759002685547, 44.87923812866211], [28.23713478931371, 45.445406978489046]], [[28.842851120418665, 45.29446502445523], [28.887447357177734, 45.29100036621094], [29.088146209716797, 45.2372932434082], [29.09396743774414, 45.235050201416016]], [[29.09396743774414, 45.235050201416016], [29.665428165365174, 45.22020126365253]]], &quot;type&quot;: &quot;MultiLineString&quot;}, &quot;id&quot;: &quot;14&quot;, &quot;properties&quot;: {&quot;NAME&quot;: &quot;Danube&quot;, &quot;SYSTEM&quot;: null, &quot;__folium_color&quot;: &quot;blue&quot;}, &quot;type&quot;: &quot;Feature&quot;}], &quot;type&quot;: &quot;FeatureCollection&quot;});\n",
       "\n",
       "        \n",
       "    \n",
       "    geo_json_0e4ea29c491b2cd97da83a1194c440f2.bindTooltip(\n",
       "    function(layer){\n",
       "    let div = L.DomUtil.create(&#x27;div&#x27;);\n",
       "    \n",
       "    let handleObject = feature=&gt;typeof(feature)==&#x27;object&#x27; ? JSON.stringify(feature) : feature;\n",
       "    let fields = [&quot;NAME&quot;, &quot;SYSTEM&quot;];\n",
       "    let aliases = [&quot;NAME&quot;, &quot;SYSTEM&quot;];\n",
       "    let table = &#x27;&lt;table&gt;&#x27; +\n",
       "        String(\n",
       "        fields.map(\n",
       "        (v,i)=&gt;\n",
       "        `&lt;tr&gt;\n",
       "            &lt;th&gt;${aliases[i]}&lt;/th&gt;\n",
       "            \n",
       "            &lt;td&gt;${handleObject(layer.feature.properties[v])}&lt;/td&gt;\n",
       "        &lt;/tr&gt;`).join(&#x27;&#x27;))\n",
       "    +&#x27;&lt;/table&gt;&#x27;;\n",
       "    div.innerHTML=table;\n",
       "    \n",
       "    return div\n",
       "    }\n",
       "    ,{&quot;className&quot;: &quot;foliumtooltip&quot;, &quot;sticky&quot;: true});\n",
       "                     \n",
       "&lt;/script&gt;\n",
       "&lt;/html&gt;\" style=\"position:absolute;width:100%;height:100%;left:0;top:0;border:none !important;\" allowfullscreen webkitallowfullscreen mozallowfullscreen></iframe></div></div>"
      ],
      "text/plain": [
       "<folium.folium.Map at 0x1f2e8833290>"
      ]
     },
     "execution_count": 27,
     "metadata": {},
     "output_type": "execute_result"
    }
   ],
   "source": [
    "m = cities_romania.explore(location=romaniaCoord,\n",
    "                   zoom_start=5,#zoom\n",
    "                   tiles='CartoDB positron',\n",
    "                   color='red',\n",
    "                   name=\"cities\") \n",
    "m = rivers_romania.explore(m=m, color=\"blue\",\n",
    "                   name=\"rivers\")\n",
    "m"
   ]
  },
  {
   "cell_type": "code",
   "execution_count": 30,
   "id": "36c5fdb3",
   "metadata": {},
   "outputs": [],
   "source": [
    "    # Ahora veamos el mismo mapa de manera interactiva utilizando capas"
   ]
  },
  {
   "cell_type": "code",
   "execution_count": 29,
   "id": "9e0bcf37",
   "metadata": {},
   "outputs": [],
   "source": [
    "#import folium\n",
    "#m = cities_alemania.explore(location=alemaniaCoord,\n",
    "                 #  zoom_start=5,#zoom\n",
    "                  # tiles='CartoDB positron',\n",
    "                   #color='red',\n",
    "                   #name=\"cities\") \n",
    "#m = rivers_alemania.explore(m=m, color=\"blue\",\n",
    "                   #name=\"rivers\")\n",
    "#folium.LayerControl().add_to(m)\n",
    "#m"
   ]
  },
  {
   "cell_type": "code",
   "execution_count": 30,
   "id": "79a67823",
   "metadata": {},
   "outputs": [],
   "source": [
    "#ONCEAVO: Se reproyecta el CRS para obtener cordenadas, se usa este link: https://epsg.io/?q=Germany"
   ]
  },
  {
   "cell_type": "code",
   "execution_count": 31,
   "id": "ba6a36b4",
   "metadata": {},
   "outputs": [
    {
     "data": {
      "text/plain": [
       "[Axis(name=Geodetic latitude, abbrev=Lat, direction=north, unit_auth_code=EPSG, unit_code=9122, unit_name=degree),\n",
       " Axis(name=Geodetic longitude, abbrev=Lon, direction=east, unit_auth_code=EPSG, unit_code=9122, unit_name=degree)]"
      ]
     },
     "execution_count": 31,
     "metadata": {},
     "output_type": "execute_result"
    }
   ],
   "source": [
    "romania.to_crs(4316).crs.axis_info"
   ]
  },
  {
   "cell_type": "code",
   "execution_count": 34,
   "id": "e676234b",
   "metadata": {},
   "outputs": [
    {
     "name": "stderr",
     "output_type": "stream",
     "text": [
      "C:\\Users\\Lenovo\\AppData\\Local\\Temp\\ipykernel_5268\\1293386979.py:1: UserWarning: Geometry is in a geographic CRS. Results from 'centroid' are likely incorrect. Use 'GeoSeries.to_crs()' to re-project geometries to a projected CRS before this operation.\n",
      "\n",
      "  romania.to_crs(4316).centroid\n"
     ]
    },
    {
     "data": {
      "text/plain": [
       "185    POINT (24.97099 45.84669)\n",
       "dtype: geometry"
      ]
     },
     "execution_count": 34,
     "metadata": {},
     "output_type": "execute_result"
    }
   ],
   "source": [
    "romania.to_crs(4316).centroid"
   ]
  },
  {
   "cell_type": "code",
   "execution_count": 35,
   "id": "53e39daa",
   "metadata": {},
   "outputs": [],
   "source": [
    "    # Se plotea con la nueva proyeccion y se obtiene el centroide en el mapa"
   ]
  },
  {
   "cell_type": "code",
   "execution_count": 36,
   "id": "59c6a4d4",
   "metadata": {},
   "outputs": [
    {
     "name": "stderr",
     "output_type": "stream",
     "text": [
      "C:\\Users\\Lenovo\\AppData\\Local\\Temp\\ipykernel_5268\\2547942574.py:2: UserWarning: Geometry is in a geographic CRS. Results from 'centroid' are likely incorrect. Use 'GeoSeries.to_crs()' to re-project geometries to a projected CRS before this operation.\n",
      "\n",
      "  romania.to_crs(4316).centroid.plot(color='red',ax=base4839)\n"
     ]
    },
    {
     "data": {
      "text/plain": [
       "<Axes: >"
      ]
     },
     "execution_count": 36,
     "metadata": {},
     "output_type": "execute_result"
    },
    {
     "data": {
      "image/png": "[encoded data removed]",
      "text/plain": [
       "<Figure size 640x480 with 1 Axes>"
      ]
     },
     "metadata": {},
     "output_type": "display_data"
    }
   ],
   "source": [
    "base4839=romania.to_crs(4316).plot()\n",
    "romania.to_crs(4316).centroid.plot(color='red',ax=base4839)"
   ]
  },
  {
   "cell_type": "code",
   "execution_count": 37,
   "id": "79e8ebfa",
   "metadata": {},
   "outputs": [],
   "source": [
    "    # Se reproyectan las ciudades y rios a fin de que todo este en el mismo CRS"
   ]
  },
  {
   "cell_type": "code",
   "execution_count": 37,
   "id": "d8535daf",
   "metadata": {},
   "outputs": [],
   "source": [
    "romania_4316=romania.to_crs(4316)\n",
    "\n",
    "cities_romania=cities[cities.COUNTRY=='Romania']\n",
    "cities_4316=cities_romania.to_crs(romania_4316.crs)\n",
    "\n",
    "rivers_4316=rivers.to_crs(romania_4316.crs)\n",
    "rivers_4316=gpd.clip(gdf=rivers_4316,mask=romania_4316)"
   ]
  },
  {
   "cell_type": "code",
   "execution_count": 38,
   "id": "5f733d99",
   "metadata": {},
   "outputs": [],
   "source": [
    "    # Se plotea el mapa reproyectado: primero Alemania"
   ]
  },
  {
   "cell_type": "code",
   "execution_count": 39,
   "id": "fbd798ff",
   "metadata": {},
   "outputs": [
    {
     "data": {
      "text/plain": [
       "<Axes: >"
      ]
     },
     "execution_count": 39,
     "metadata": {},
     "output_type": "execute_result"
    },
    {
     "data": {
      "image/png": "[encoded data removed]",
      "text/plain": [
       "<Figure size 640x480 with 1 Axes>"
      ]
     },
     "metadata": {},
     "output_type": "display_data"
    }
   ],
   "source": [
    "romania_4316.plot()"
   ]
  },
  {
   "cell_type": "code",
   "execution_count": 40,
   "id": "af2cf0d5",
   "metadata": {},
   "outputs": [],
   "source": [
    "    # Se plotea el mapa reproyectado: segundo las ciudades de Alemania"
   ]
  },
  {
   "cell_type": "code",
   "execution_count": 41,
   "id": "d7a2008f",
   "metadata": {},
   "outputs": [
    {
     "data": {
      "text/plain": [
       "<Axes: >"
      ]
     },
     "execution_count": 41,
     "metadata": {},
     "output_type": "execute_result"
    },
    {
     "data": {
      "image/png": "[encoded data removed]",
      "text/plain": [
       "<Figure size 640x480 with 1 Axes>"
      ]
     },
     "metadata": {},
     "output_type": "display_data"
    }
   ],
   "source": [
    "cities_4316.plot()"
   ]
  },
  {
   "cell_type": "code",
   "execution_count": 43,
   "id": "45f14db7",
   "metadata": {},
   "outputs": [],
   "source": [
    "    # Se plotea el mapa reproyectado: tercero los rios de Alemania"
   ]
  },
  {
   "cell_type": "code",
   "execution_count": 42,
   "id": "63bb6064",
   "metadata": {},
   "outputs": [
    {
     "data": {
      "text/plain": [
       "<Axes: >"
      ]
     },
     "execution_count": 42,
     "metadata": {},
     "output_type": "execute_result"
    },
    {
     "data": {
      "image/png": "[encoded data removed]",
      "text/plain": [
       "<Figure size 640x480 with 1 Axes>"
      ]
     },
     "metadata": {},
     "output_type": "display_data"
    }
   ],
   "source": [
    "rivers_4316.plot()"
   ]
  },
  {
   "cell_type": "code",
   "execution_count": 45,
   "id": "a027bbb0",
   "metadata": {},
   "outputs": [],
   "source": [
    "    # Se plotea el mapa reproyectado uniendo a Alemania con sus ciudades y rios"
   ]
  },
  {
   "cell_type": "code",
   "execution_count": 43,
   "id": "6aa79381",
   "metadata": {},
   "outputs": [
    {
     "data": {
      "text/plain": [
       "<Axes: >"
      ]
     },
     "execution_count": 43,
     "metadata": {},
     "output_type": "execute_result"
    },
    {
     "data": {
      "image/png": "[encoded data removed]",
      "text/plain": [
       "<Figure size 500x500 with 1 Axes>"
      ]
     },
     "metadata": {},
     "output_type": "display_data"
    }
   ],
   "source": [
    "base = romania_4316.plot(facecolor=\"greenyellow\", edgecolor='black', linewidth=0.4,figsize=(5,5))\n",
    "cities_4316.plot(marker='+', color='red', markersize=15,ax=base)\n",
    "rivers_4316.plot(edgecolor='blue', linewidth=0.5,ax=base)"
   ]
  },
  {
   "cell_type": "code",
   "execution_count": 44,
   "id": "117fe4ed",
   "metadata": {},
   "outputs": [],
   "source": [
    "    # Se plotea el mapa reproyectado unificado e interactivo"
   ]
  },
  {
   "cell_type": "code",
   "execution_count": 45,
   "id": "07c6635c",
   "metadata": {},
   "outputs": [],
   "source": [
    "#import folium\n",
    "#m = cities_4839.explore(location=alemaniaCoord,\n",
    " #                  zoom_start=5,#zoom\n",
    "    #               tiles='CartoDB positron',\n",
    "     #              color='red',\n",
    "      #             name=\"cities\") \n",
    "#m = rivers_4839.explore(m=m, color=\"blue\",\n",
    " #                  name=\"rivers\")\n",
    "#folium.LayerControl().add_to(m)\n",
    "#m"
   ]
  },
  {
   "cell_type": "code",
   "execution_count": 46,
   "id": "14e02e8a",
   "metadata": {},
   "outputs": [],
   "source": [
    "#DOCEAVO: Se exporta el mapa en la carpeta \"figures\" como imagen"
   ]
  },
  {
   "cell_type": "code",
   "execution_count": 47,
   "id": "212e258a",
   "metadata": {},
   "outputs": [
    {
     "data": {
      "image/png": "[encoded data removed]",
      "text/plain": [
       "<Figure size 500x500 with 1 Axes>"
      ]
     },
     "metadata": {},
     "output_type": "display_data"
    }
   ],
   "source": [
    "import matplotlib.pyplot as plt\n",
    "\n",
    "base = romania_4316.plot(facecolor=\"greenyellow\", edgecolor='black', linewidth=0.4,figsize=(5,5))\n",
    "map2=cities_4316.plot(marker='+', color='red', markersize=15,ax=base)\n",
    "mapEnd=rivers_4316.plot(edgecolor='blue', linewidth=0.5,ax=base)\n",
    "plt.savefig(os.path.join(\"figures\",'mapRomania.jpg'))"
   ]
  },
  {
   "cell_type": "code",
   "execution_count": 48,
   "id": "1b66fe40",
   "metadata": {},
   "outputs": [],
   "source": [
    "#TRECEAVO: Se guardan los 3 mapas reproyectados en un archivo de geopaquete"
   ]
  },
  {
   "cell_type": "code",
   "execution_count": 49,
   "id": "8ae95527",
   "metadata": {},
   "outputs": [],
   "source": [
    "import os\n",
    "\n",
    "romania_4316.to_file(os.path.join(\"maps\",\"romania_4316\",\"romaniaMaps_4316.gpkg\"), layer='countries', driver=\"GPKG\")\n",
    "cities_4316.to_file(os.path.join(\"maps\",\"romania_4316\",\"romaniaMaps_4316.gpkg\"), layer='cities', driver=\"GPKG\")\n",
    "rivers_4316.to_file(os.path.join(\"maps\",\"romania_4316\",\"romaniaMaps_4316.gpkg\"), layer='rivers', driver=\"GPKG\")"
   ]
  },
  {
   "cell_type": "code",
   "execution_count": 54,
   "id": "95f1f0a0",
   "metadata": {},
   "outputs": [],
   "source": [
    "#Link de GitHub"
   ]
  },
  {
   "cell_type": "code",
   "execution_count": 55,
   "id": "576d166d",
   "metadata": {},
   "outputs": [],
   "source": [
    "#alemaniaMaps='https://github.com/Clases-y-Evaluaciones-DelaCruz-Diana/Evaluation2-DelaCruz/raw/main/maps/alemania_4839/alemaniaMaps_4839.gpkg'"
   ]
  },
  {
   "cell_type": "code",
   "execution_count": 50,
   "id": "699ed195",
   "metadata": {},
   "outputs": [],
   "source": [
    "#from  fiona import listlayers \n",
    "\n",
    "#listlayers(romaniaMaps)"
   ]
  },
  {
   "cell_type": "code",
   "execution_count": 51,
   "id": "6ff76bdd",
   "metadata": {},
   "outputs": [],
   "source": [
    "#countries=gpd.read_file(romaniaMaps,layer='countries')\n",
    "#cities=gpd.read_file(romaniaMaps,layer='cities')\n",
    "#rivers=gpd.read_file(romaniaMaps,layer='rivers')"
   ]
  },
  {
   "cell_type": "code",
   "execution_count": 52,
   "id": "7dda20ca",
   "metadata": {},
   "outputs": [],
   "source": [
    "#base = countries.plot(facecolor='gainsboro')\n",
    "#cities.plot(ax=base, markersize=0.5, color='red') \n",
    "#rivers.plot(ax=base, linewidth=0.5)"
   ]
  },
  {
   "cell_type": "code",
   "execution_count": null,
   "id": "257fc247",
   "metadata": {},
   "outputs": [],
   "source": []
  }
 ],
 "metadata": {
  "kernelspec": {
   "display_name": "Python 3 (ipykernel)",
   "language": "python",
   "name": "python3"
  },
  "language_info": {
   "codemirror_mode": {
    "name": "ipython",
    "version": 3
   },
   "file_extension": ".py",
   "mimetype": "text/x-python",
   "name": "python",
   "nbconvert_exporter": "python",
   "pygments_lexer": "ipython3",
   "version": "3.11.5"
  }
 },
 "nbformat": 4,
 "nbformat_minor": 5
}
